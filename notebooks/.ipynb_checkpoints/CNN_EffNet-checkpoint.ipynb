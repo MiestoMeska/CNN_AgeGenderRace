{
 "cells": [
  {
   "cell_type": "code",
   "execution_count": 1,
   "id": "172409a4-401d-4be6-b406-664c3e25460f",
   "metadata": {},
   "outputs": [
    {
     "name": "stdout",
     "output_type": "stream",
     "text": [
      "Is CUDA available: True\n"
     ]
    }
   ],
   "source": [
    "import sys\n",
    "import os\n",
    "sys.path\n",
    "sys.path.append('..')\n",
    "import pandas as pd\n",
    "import numpy as np\n",
    "import torch\n",
    "import pytorch_lightning as pl\n",
    "\n",
    "from utils import MultiLabelImageDataset, compute_class_weights\n",
    "\n",
    "from utils import EfficientNetMultiOutput, UnfreezeCallback_EffNet\n",
    "\n",
    "from sklearn.model_selection import train_test_split\n",
    "import torchvision.transforms as transforms\n",
    "from torch.utils.data import DataLoader\n",
    "from pytorch_lightning.loggers import TensorBoardLogger\n",
    "from pytorch_lightning.callbacks import ModelCheckpoint\n",
    "\n",
    "\n",
    "print(f\"Is CUDA available: {torch.cuda.is_available()}\")\n",
    "os.environ[\"CUDA_VISIBLE_DEVICES\"] = \"0\""
   ]
  },
  {
   "cell_type": "code",
   "execution_count": 2,
   "id": "9f4d8ea2-8f15-48cc-81a1-c0a1cfe38c38",
   "metadata": {},
   "outputs": [],
   "source": [
    "path_data = '../data/merged'\n",
    "path_labels = '../data/merged/dataset_labels.csv'\n",
    "df = pd.read_csv(path_labels)"
   ]
  },
  {
   "cell_type": "code",
   "execution_count": 3,
   "id": "a7a91319-7b32-4d58-8044-dedff081341e",
   "metadata": {},
   "outputs": [
    {
     "data": {
      "text/html": [
       "<div>\n",
       "<style scoped>\n",
       "    .dataframe tbody tr th:only-of-type {\n",
       "        vertical-align: middle;\n",
       "    }\n",
       "\n",
       "    .dataframe tbody tr th {\n",
       "        vertical-align: top;\n",
       "    }\n",
       "\n",
       "    .dataframe thead th {\n",
       "        text-align: right;\n",
       "    }\n",
       "</style>\n",
       "<table border=\"1\" class=\"dataframe\">\n",
       "  <thead>\n",
       "    <tr style=\"text-align: right;\">\n",
       "      <th></th>\n",
       "      <th>filename</th>\n",
       "      <th>gender</th>\n",
       "      <th>race</th>\n",
       "      <th>age_group</th>\n",
       "    </tr>\n",
       "  </thead>\n",
       "  <tbody>\n",
       "    <tr>\n",
       "      <th>0</th>\n",
       "      <td>face0_0_0_8.jpg</td>\n",
       "      <td>0</td>\n",
       "      <td>0</td>\n",
       "      <td>8</td>\n",
       "    </tr>\n",
       "    <tr>\n",
       "      <th>1</th>\n",
       "      <td>face100000_0_2_1.jpg</td>\n",
       "      <td>0</td>\n",
       "      <td>2</td>\n",
       "      <td>1</td>\n",
       "    </tr>\n",
       "    <tr>\n",
       "      <th>2</th>\n",
       "      <td>face100002_1_0_3.jpg</td>\n",
       "      <td>1</td>\n",
       "      <td>0</td>\n",
       "      <td>3</td>\n",
       "    </tr>\n",
       "    <tr>\n",
       "      <th>3</th>\n",
       "      <td>face100003_1_4_3.jpg</td>\n",
       "      <td>1</td>\n",
       "      <td>4</td>\n",
       "      <td>3</td>\n",
       "    </tr>\n",
       "    <tr>\n",
       "      <th>4</th>\n",
       "      <td>face100004_1_4_1.jpg</td>\n",
       "      <td>1</td>\n",
       "      <td>4</td>\n",
       "      <td>1</td>\n",
       "    </tr>\n",
       "    <tr>\n",
       "      <th>...</th>\n",
       "      <td>...</td>\n",
       "      <td>...</td>\n",
       "      <td>...</td>\n",
       "      <td>...</td>\n",
       "    </tr>\n",
       "    <tr>\n",
       "      <th>100980</th>\n",
       "      <td>face99998_0_4_1.jpg</td>\n",
       "      <td>0</td>\n",
       "      <td>4</td>\n",
       "      <td>1</td>\n",
       "    </tr>\n",
       "    <tr>\n",
       "      <th>100981</th>\n",
       "      <td>face99999_0_4_2.jpg</td>\n",
       "      <td>0</td>\n",
       "      <td>4</td>\n",
       "      <td>2</td>\n",
       "    </tr>\n",
       "    <tr>\n",
       "      <th>100982</th>\n",
       "      <td>face999_1_0_2.jpg</td>\n",
       "      <td>1</td>\n",
       "      <td>0</td>\n",
       "      <td>2</td>\n",
       "    </tr>\n",
       "    <tr>\n",
       "      <th>100983</th>\n",
       "      <td>face99_0_3_2.jpg</td>\n",
       "      <td>0</td>\n",
       "      <td>3</td>\n",
       "      <td>2</td>\n",
       "    </tr>\n",
       "    <tr>\n",
       "      <th>100984</th>\n",
       "      <td>face9_1_2_8.jpg</td>\n",
       "      <td>1</td>\n",
       "      <td>2</td>\n",
       "      <td>8</td>\n",
       "    </tr>\n",
       "  </tbody>\n",
       "</table>\n",
       "<p>100985 rows × 4 columns</p>\n",
       "</div>"
      ],
      "text/plain": [
       "                    filename  gender  race  age_group\n",
       "0            face0_0_0_8.jpg       0     0          8\n",
       "1       face100000_0_2_1.jpg       0     2          1\n",
       "2       face100002_1_0_3.jpg       1     0          3\n",
       "3       face100003_1_4_3.jpg       1     4          3\n",
       "4       face100004_1_4_1.jpg       1     4          1\n",
       "...                      ...     ...   ...        ...\n",
       "100980   face99998_0_4_1.jpg       0     4          1\n",
       "100981   face99999_0_4_2.jpg       0     4          2\n",
       "100982     face999_1_0_2.jpg       1     0          2\n",
       "100983      face99_0_3_2.jpg       0     3          2\n",
       "100984       face9_1_2_8.jpg       1     2          8\n",
       "\n",
       "[100985 rows x 4 columns]"
      ]
     },
     "execution_count": 3,
     "metadata": {},
     "output_type": "execute_result"
    }
   ],
   "source": [
    "df"
   ]
  },
  {
   "cell_type": "code",
   "execution_count": 4,
   "id": "4ac4a8ab-9d76-4011-8c86-f147dc220c7a",
   "metadata": {},
   "outputs": [],
   "source": [
    "torch.set_float32_matmul_precision('medium')"
   ]
  },
  {
   "cell_type": "code",
   "execution_count": 5,
   "id": "14a65a65-6498-46d1-ac95-1e3fca5bc684",
   "metadata": {},
   "outputs": [
    {
     "name": "stdout",
     "output_type": "stream",
     "text": [
      "Training set size: 70689\n",
      "Validation set size: 15148\n",
      "Test set size: 15148\n"
     ]
    }
   ],
   "source": [
    "train_df, remaining_df = train_test_split(df, test_size=0.30, random_state=42, stratify=df[['gender', 'race', 'age_group']])\n",
    "\n",
    "val_df, test_df = train_test_split(remaining_df, test_size=0.5, random_state=42, stratify=remaining_df[['gender', 'race', 'age_group']])\n",
    "\n",
    "print(f\"Training set size: {len(train_df)}\")\n",
    "print(f\"Validation set size: {len(val_df)}\")\n",
    "print(f\"Test set size: {len(test_df)}\")"
   ]
  },
  {
   "cell_type": "code",
   "execution_count": 6,
   "id": "ff0fb05d-f766-4d74-a091-4197324816d3",
   "metadata": {},
   "outputs": [],
   "source": [
    "from sklearn.utils import resample\n",
    "def downsample_dataframe(df, target_column):\n",
    "    \"\"\"\n",
    "    Downsamples the majority classes in the dataframe to balance the classes in the target column.\n",
    "    \n",
    "    Args:\n",
    "    - df: The pandas DataFrame that contains the data.\n",
    "    - target_column: The column name of the target variable (e.g., 'gender', 'race', 'age_group').\n",
    "    \n",
    "    Returns:\n",
    "    - A DataFrame with balanced classes.\n",
    "    \"\"\"\n",
    "    min_class_size = df[target_column].value_counts().min()\n",
    "    \n",
    "    dfs = [resample(group, replace=False, n_samples=min_class_size, random_state=42) \n",
    "           for _, group in df.groupby(target_column)]\n",
    "    \n",
    "    balanced_df = pd.concat(dfs)\n",
    "    \n",
    "    return balanced_df\n"
   ]
  },
  {
   "cell_type": "code",
   "execution_count": 7,
   "id": "7842d312-30a7-4e64-8eab-4873a20f1273",
   "metadata": {},
   "outputs": [],
   "source": [
    "df_balanced_gender = downsample_dataframe(train_df, 'gender')\n",
    "df_balanced_race = downsample_dataframe(train_df, 'race')\n",
    "df_balanced_age = downsample_dataframe(train_df, 'age_group')"
   ]
  },
  {
   "cell_type": "code",
   "execution_count": 8,
   "id": "bfdc3df7-309d-4a68-96a4-ff64dead07b1",
   "metadata": {},
   "outputs": [],
   "source": [
    "df_balanced = df_balanced_gender.merge(df_balanced_race, on='filename').merge(df_balanced_age, on='filename')"
   ]
  },
  {
   "cell_type": "code",
   "execution_count": 9,
   "id": "24450927-eff1-4627-a055-43db92ffc615",
   "metadata": {},
   "outputs": [
    {
     "data": {
      "text/html": [
       "<div>\n",
       "<style scoped>\n",
       "    .dataframe tbody tr th:only-of-type {\n",
       "        vertical-align: middle;\n",
       "    }\n",
       "\n",
       "    .dataframe tbody tr th {\n",
       "        vertical-align: top;\n",
       "    }\n",
       "\n",
       "    .dataframe thead th {\n",
       "        text-align: right;\n",
       "    }\n",
       "</style>\n",
       "<table border=\"1\" class=\"dataframe\">\n",
       "  <thead>\n",
       "    <tr style=\"text-align: right;\">\n",
       "      <th></th>\n",
       "      <th>filename</th>\n",
       "      <th>gender_x</th>\n",
       "      <th>race_x</th>\n",
       "      <th>age_group_x</th>\n",
       "      <th>gender_y</th>\n",
       "      <th>race_y</th>\n",
       "      <th>age_group_y</th>\n",
       "      <th>gender</th>\n",
       "      <th>race</th>\n",
       "      <th>age_group</th>\n",
       "    </tr>\n",
       "  </thead>\n",
       "  <tbody>\n",
       "    <tr>\n",
       "      <th>0</th>\n",
       "      <td>face32656_0_1_6.jpg</td>\n",
       "      <td>0</td>\n",
       "      <td>1</td>\n",
       "      <td>6</td>\n",
       "      <td>0</td>\n",
       "      <td>1</td>\n",
       "      <td>6</td>\n",
       "      <td>0</td>\n",
       "      <td>1</td>\n",
       "      <td>6</td>\n",
       "    </tr>\n",
       "    <tr>\n",
       "      <th>1</th>\n",
       "      <td>face18308_0_0_6.jpg</td>\n",
       "      <td>0</td>\n",
       "      <td>0</td>\n",
       "      <td>6</td>\n",
       "      <td>0</td>\n",
       "      <td>0</td>\n",
       "      <td>6</td>\n",
       "      <td>0</td>\n",
       "      <td>0</td>\n",
       "      <td>6</td>\n",
       "    </tr>\n",
       "    <tr>\n",
       "      <th>2</th>\n",
       "      <td>face71590_0_4_2.jpg</td>\n",
       "      <td>0</td>\n",
       "      <td>4</td>\n",
       "      <td>2</td>\n",
       "      <td>0</td>\n",
       "      <td>4</td>\n",
       "      <td>2</td>\n",
       "      <td>0</td>\n",
       "      <td>4</td>\n",
       "      <td>2</td>\n",
       "    </tr>\n",
       "    <tr>\n",
       "      <th>3</th>\n",
       "      <td>face115805_0_0_4.jpg</td>\n",
       "      <td>0</td>\n",
       "      <td>0</td>\n",
       "      <td>4</td>\n",
       "      <td>0</td>\n",
       "      <td>0</td>\n",
       "      <td>4</td>\n",
       "      <td>0</td>\n",
       "      <td>0</td>\n",
       "      <td>4</td>\n",
       "    </tr>\n",
       "    <tr>\n",
       "      <th>4</th>\n",
       "      <td>face93031_0_2_0.jpg</td>\n",
       "      <td>0</td>\n",
       "      <td>2</td>\n",
       "      <td>0</td>\n",
       "      <td>0</td>\n",
       "      <td>2</td>\n",
       "      <td>0</td>\n",
       "      <td>0</td>\n",
       "      <td>2</td>\n",
       "      <td>0</td>\n",
       "    </tr>\n",
       "    <tr>\n",
       "      <th>...</th>\n",
       "      <td>...</td>\n",
       "      <td>...</td>\n",
       "      <td>...</td>\n",
       "      <td>...</td>\n",
       "      <td>...</td>\n",
       "      <td>...</td>\n",
       "      <td>...</td>\n",
       "      <td>...</td>\n",
       "      <td>...</td>\n",
       "      <td>...</td>\n",
       "    </tr>\n",
       "    <tr>\n",
       "      <th>9541</th>\n",
       "      <td>face10216_1_0_0.jpg</td>\n",
       "      <td>1</td>\n",
       "      <td>0</td>\n",
       "      <td>0</td>\n",
       "      <td>1</td>\n",
       "      <td>0</td>\n",
       "      <td>0</td>\n",
       "      <td>1</td>\n",
       "      <td>0</td>\n",
       "      <td>0</td>\n",
       "    </tr>\n",
       "    <tr>\n",
       "      <th>9542</th>\n",
       "      <td>face120220_1_2_4.jpg</td>\n",
       "      <td>1</td>\n",
       "      <td>2</td>\n",
       "      <td>4</td>\n",
       "      <td>1</td>\n",
       "      <td>2</td>\n",
       "      <td>4</td>\n",
       "      <td>1</td>\n",
       "      <td>2</td>\n",
       "      <td>4</td>\n",
       "    </tr>\n",
       "    <tr>\n",
       "      <th>9543</th>\n",
       "      <td>face116060_1_1_2.jpg</td>\n",
       "      <td>1</td>\n",
       "      <td>1</td>\n",
       "      <td>2</td>\n",
       "      <td>1</td>\n",
       "      <td>1</td>\n",
       "      <td>2</td>\n",
       "      <td>1</td>\n",
       "      <td>1</td>\n",
       "      <td>2</td>\n",
       "    </tr>\n",
       "    <tr>\n",
       "      <th>9544</th>\n",
       "      <td>face42544_1_3_8.jpg</td>\n",
       "      <td>1</td>\n",
       "      <td>3</td>\n",
       "      <td>8</td>\n",
       "      <td>1</td>\n",
       "      <td>3</td>\n",
       "      <td>8</td>\n",
       "      <td>1</td>\n",
       "      <td>3</td>\n",
       "      <td>8</td>\n",
       "    </tr>\n",
       "    <tr>\n",
       "      <th>9545</th>\n",
       "      <td>face28770_1_4_1.jpg</td>\n",
       "      <td>1</td>\n",
       "      <td>4</td>\n",
       "      <td>1</td>\n",
       "      <td>1</td>\n",
       "      <td>4</td>\n",
       "      <td>1</td>\n",
       "      <td>1</td>\n",
       "      <td>4</td>\n",
       "      <td>1</td>\n",
       "    </tr>\n",
       "  </tbody>\n",
       "</table>\n",
       "<p>9546 rows × 10 columns</p>\n",
       "</div>"
      ],
      "text/plain": [
       "                  filename  gender_x  race_x  age_group_x  gender_y  race_y  \\\n",
       "0      face32656_0_1_6.jpg         0       1            6         0       1   \n",
       "1      face18308_0_0_6.jpg         0       0            6         0       0   \n",
       "2      face71590_0_4_2.jpg         0       4            2         0       4   \n",
       "3     face115805_0_0_4.jpg         0       0            4         0       0   \n",
       "4      face93031_0_2_0.jpg         0       2            0         0       2   \n",
       "...                    ...       ...     ...          ...       ...     ...   \n",
       "9541   face10216_1_0_0.jpg         1       0            0         1       0   \n",
       "9542  face120220_1_2_4.jpg         1       2            4         1       2   \n",
       "9543  face116060_1_1_2.jpg         1       1            2         1       1   \n",
       "9544   face42544_1_3_8.jpg         1       3            8         1       3   \n",
       "9545   face28770_1_4_1.jpg         1       4            1         1       4   \n",
       "\n",
       "      age_group_y  gender  race  age_group  \n",
       "0               6       0     1          6  \n",
       "1               6       0     0          6  \n",
       "2               2       0     4          2  \n",
       "3               4       0     0          4  \n",
       "4               0       0     2          0  \n",
       "...           ...     ...   ...        ...  \n",
       "9541            0       1     0          0  \n",
       "9542            4       1     2          4  \n",
       "9543            2       1     1          2  \n",
       "9544            8       1     3          8  \n",
       "9545            1       1     4          1  \n",
       "\n",
       "[9546 rows x 10 columns]"
      ]
     },
     "execution_count": 9,
     "metadata": {},
     "output_type": "execute_result"
    }
   ],
   "source": [
    "df_balanced"
   ]
  },
  {
   "cell_type": "code",
   "execution_count": 11,
   "id": "f52c197b-5bb0-4a2d-8f61-caa1616924a8",
   "metadata": {},
   "outputs": [
    {
     "name": "stdout",
     "output_type": "stream",
     "text": [
      "{'gender': tensor([0.9678, 1.0345]), 'race': tensor([0.8337, 1.3167, 0.8135, 1.3530, 0.9321]), 'age': tensor([4.2410, 1.0074, 1.1154, 0.3686, 0.5241, 0.9648, 1.4404, 3.0197, 5.2119])}\n"
     ]
    }
   ],
   "source": [
    "class_weights = compute_class_weights(train_df)\n",
    "print(class_weights)"
   ]
  },
  {
   "cell_type": "code",
   "execution_count": 12,
   "id": "3dda3951-f011-4747-ab11-0ccdbc32a95f",
   "metadata": {},
   "outputs": [],
   "source": [
    "transform = transforms.Compose([\n",
    "    transforms.ToTensor(),\n",
    "    transforms.Normalize(mean=[0.485, 0.456, 0.406], std=[0.229, 0.224, 0.225]),\n",
    "])\n",
    "\n",
    "batch_size = 128\n",
    "accumulate_grad_batches = 32\n",
    "\n",
    "train_dataset = MultiLabelImageDataset(train_df, path_data, transform=transform)\n",
    "val_dataset = MultiLabelImageDataset(val_df, path_data, transform=transform)\n",
    "test_dataset = MultiLabelImageDataset(test_df, path_data, transform=transform)\n",
    "\n",
    "train_loader = DataLoader(train_dataset, batch_size=batch_size, shuffle=True, num_workers=1, persistent_workers=True)\n",
    "val_loader = DataLoader(val_dataset, batch_size=batch_size, shuffle=False, num_workers=1, persistent_workers=True)\n",
    "test_loader = DataLoader(test_dataset, batch_size=batch_size, shuffle=False, num_workers=1, persistent_workers=True)\n"
   ]
  },
  {
   "cell_type": "code",
   "execution_count": 13,
   "id": "d2bba08c-8d04-4059-8b5c-f573e23bff8d",
   "metadata": {},
   "outputs": [
    {
     "name": "stderr",
     "output_type": "stream",
     "text": [
      "GPU available: True (cuda), used: True\n",
      "TPU available: False, using: 0 TPU cores\n",
      "HPU available: False, using: 0 HPUs\n"
     ]
    }
   ],
   "source": [
    "name = \"CNN_EffNet_sigmoid_unbalanced\"\n",
    "logger = TensorBoardLogger(\"../tb_logs\", name=name)\n",
    "model = EfficientNetMultiOutput(class_weights=class_weights)\n",
    "\n",
    "checkpoint_callback = ModelCheckpoint(\n",
    "    monitor='val_loss',\n",
    "    filename = f'{name}_b{batch_size}_gacc{accumulate_grad_batches}_' + '{epoch:02d}-{val_loss:.2f}',\n",
    "    save_top_k=1,\n",
    "    mode='min',\n",
    "    dirpath='../models/',\n",
    "    verbose=False\n",
    ")\n",
    "\n",
    "early_stop_callback = pl.callbacks.EarlyStopping(monitor=\"val_loss\", patience=9, mode=\"min\")\n",
    "\n",
    "trainer = pl.Trainer(\n",
    "    max_epochs=99,\n",
    "    accelerator='gpu',\n",
    "    devices=[0],\n",
    "    accumulate_grad_batches=accumulate_grad_batches,\n",
    "    callbacks=[UnfreezeCallback_EffNet(patience=4),checkpoint_callback, early_stop_callback],\n",
    "    logger=logger\n",
    ")"
   ]
  },
  {
   "cell_type": "code",
   "execution_count": 15,
   "id": "f90d2b55-b420-4238-ae96-9680ea46f238",
   "metadata": {},
   "outputs": [],
   "source": [
    "new_lr = 5e-4"
   ]
  },
  {
   "cell_type": "code",
   "execution_count": 16,
   "id": "1d5a5c48-0fe1-4487-933a-17aeaa5084c9",
   "metadata": {},
   "outputs": [],
   "source": [
    "model.hparams.lr = new_lr\n",
    "hyperparams = {\n",
    "    'learning_rate': new_lr,\n",
    "    'batch_size': batch_size,\n",
    "    'accumulate_grad_batches': accumulate_grad_batches,\n",
    "    'dropout': 0.5,\n",
    "    'weight_decay': 1e-5\n",
    "}\n",
    "logger.log_hyperparams(hyperparams)"
   ]
  },
  {
   "cell_type": "code",
   "execution_count": null,
   "id": "8601292a-80b0-4fd6-8269-3650afa5ed6b",
   "metadata": {},
   "outputs": [
    {
     "name": "stderr",
     "output_type": "stream",
     "text": [
      "C:\\Users\\MiestoMeska\\anaconda3\\envs\\TC_4\\lib\\site-packages\\pytorch_lightning\\callbacks\\model_checkpoint.py:654: Checkpoint directory C:\\Users\\MiestoMeska\\Desktop\\Mokslai\\TC\\Module4\\Sprint_3\\Project\\vruzga-DL.3.5\\models exists and is not empty.\n",
      "LOCAL_RANK: 0 - CUDA_VISIBLE_DEVICES: [0]\n",
      "C:\\Users\\MiestoMeska\\anaconda3\\envs\\TC_4\\lib\\site-packages\\torch\\optim\\lr_scheduler.py:28: UserWarning: The verbose parameter is deprecated. Please use get_last_lr() to access the learning rate.\n",
      "  warnings.warn(\"The verbose parameter is deprecated. Please use get_last_lr() \"\n",
      "\n",
      "   | Name                     | Type                | Params | Mode \n",
      "--------------------------------------------------------------------------\n",
      "0  | efficientnet             | EfficientNet        | 4.0 M  | train\n",
      "1  | gender_classifier        | Sequential          | 787 K  | train\n",
      "2  | race_classifier          | Sequential          | 788 K  | train\n",
      "3  | age_regression           | Sequential          | 2.0 M  | train\n",
      "4  | criterion_gender         | CrossEntropyLoss    | 0      | train\n",
      "5  | criterion_race           | CrossEntropyLoss    | 0      | train\n",
      "6  | criterion_age_regression | MSELoss             | 0      | train\n",
      "7  | gender_accuracy          | MulticlassAccuracy  | 0      | train\n",
      "8  | gender_precision         | MulticlassPrecision | 0      | train\n",
      "9  | gender_f1                | MulticlassF1Score   | 0      | train\n",
      "10 | race_accuracy            | MulticlassAccuracy  | 0      | train\n",
      "11 | race_precision           | MulticlassPrecision | 0      | train\n",
      "12 | race_f1                  | MulticlassF1Score   | 0      | train\n",
      "13 | age_mae                  | MeanAbsoluteError   | 0      | train\n",
      "14 | age_mse                  | MeanSquaredError    | 0      | train\n",
      "--------------------------------------------------------------------------\n",
      "3.5 M     Trainable params\n",
      "4.0 M     Non-trainable params\n",
      "7.6 M     Total params\n",
      "30.208    Total estimated model params size (MB)\n",
      "374       Modules in train mode\n",
      "0         Modules in eval mode\n"
     ]
    },
    {
     "data": {
      "application/vnd.jupyter.widget-view+json": {
       "model_id": "",
       "version_major": 2,
       "version_minor": 0
      },
      "text/plain": [
       "Sanity Checking: |                                                                               | 0/? [00:00<…"
      ]
     },
     "metadata": {},
     "output_type": "display_data"
    },
    {
     "name": "stderr",
     "output_type": "stream",
     "text": [
      "C:\\Users\\MiestoMeska\\anaconda3\\envs\\TC_4\\lib\\site-packages\\pytorch_lightning\\trainer\\connectors\\data_connector.py:424: The 'val_dataloader' does not have many workers which may be a bottleneck. Consider increasing the value of the `num_workers` argument` to `num_workers=19` in the `DataLoader` to improve performance.\n",
      "C:\\Users\\MiestoMeska\\anaconda3\\envs\\TC_4\\lib\\site-packages\\pytorch_lightning\\trainer\\connectors\\data_connector.py:424: The 'train_dataloader' does not have many workers which may be a bottleneck. Consider increasing the value of the `num_workers` argument` to `num_workers=19` in the `DataLoader` to improve performance.\n"
     ]
    },
    {
     "data": {
      "application/vnd.jupyter.widget-view+json": {
       "model_id": "c2cefe3933244e3c8b05fcf5754e626f",
       "version_major": 2,
       "version_minor": 0
      },
      "text/plain": [
       "Training: |                                                                                      | 0/? [00:00<…"
      ]
     },
     "metadata": {},
     "output_type": "display_data"
    },
    {
     "data": {
      "application/vnd.jupyter.widget-view+json": {
       "model_id": "",
       "version_major": 2,
       "version_minor": 0
      },
      "text/plain": [
       "Validation: |                                                                                    | 0/? [00:00<…"
      ]
     },
     "metadata": {},
     "output_type": "display_data"
    },
    {
     "data": {
      "application/vnd.jupyter.widget-view+json": {
       "model_id": "",
       "version_major": 2,
       "version_minor": 0
      },
      "text/plain": [
       "Validation: |                                                                                    | 0/? [00:00<…"
      ]
     },
     "metadata": {},
     "output_type": "display_data"
    },
    {
     "data": {
      "application/vnd.jupyter.widget-view+json": {
       "model_id": "",
       "version_major": 2,
       "version_minor": 0
      },
      "text/plain": [
       "Validation: |                                                                                    | 0/? [00:00<…"
      ]
     },
     "metadata": {},
     "output_type": "display_data"
    },
    {
     "data": {
      "application/vnd.jupyter.widget-view+json": {
       "model_id": "",
       "version_major": 2,
       "version_minor": 0
      },
      "text/plain": [
       "Validation: |                                                                                    | 0/? [00:00<…"
      ]
     },
     "metadata": {},
     "output_type": "display_data"
    },
    {
     "data": {
      "application/vnd.jupyter.widget-view+json": {
       "model_id": "",
       "version_major": 2,
       "version_minor": 0
      },
      "text/plain": [
       "Validation: |                                                                                    | 0/? [00:00<…"
      ]
     },
     "metadata": {},
     "output_type": "display_data"
    },
    {
     "data": {
      "application/vnd.jupyter.widget-view+json": {
       "model_id": "",
       "version_major": 2,
       "version_minor": 0
      },
      "text/plain": [
       "Validation: |                                                                                    | 0/? [00:00<…"
      ]
     },
     "metadata": {},
     "output_type": "display_data"
    },
    {
     "data": {
      "application/vnd.jupyter.widget-view+json": {
       "model_id": "",
       "version_major": 2,
       "version_minor": 0
      },
      "text/plain": [
       "Validation: |                                                                                    | 0/? [00:00<…"
      ]
     },
     "metadata": {},
     "output_type": "display_data"
    },
    {
     "data": {
      "application/vnd.jupyter.widget-view+json": {
       "model_id": "",
       "version_major": 2,
       "version_minor": 0
      },
      "text/plain": [
       "Validation: |                                                                                    | 0/? [00:00<…"
      ]
     },
     "metadata": {},
     "output_type": "display_data"
    },
    {
     "data": {
      "application/vnd.jupyter.widget-view+json": {
       "model_id": "",
       "version_major": 2,
       "version_minor": 0
      },
      "text/plain": [
       "Validation: |                                                                                    | 0/? [00:00<…"
      ]
     },
     "metadata": {},
     "output_type": "display_data"
    },
    {
     "data": {
      "application/vnd.jupyter.widget-view+json": {
       "model_id": "",
       "version_major": 2,
       "version_minor": 0
      },
      "text/plain": [
       "Validation: |                                                                                    | 0/? [00:00<…"
      ]
     },
     "metadata": {},
     "output_type": "display_data"
    },
    {
     "data": {
      "application/vnd.jupyter.widget-view+json": {
       "model_id": "",
       "version_major": 2,
       "version_minor": 0
      },
      "text/plain": [
       "Validation: |                                                                                    | 0/? [00:00<…"
      ]
     },
     "metadata": {},
     "output_type": "display_data"
    },
    {
     "data": {
      "application/vnd.jupyter.widget-view+json": {
       "model_id": "",
       "version_major": 2,
       "version_minor": 0
      },
      "text/plain": [
       "Validation: |                                                                                    | 0/? [00:00<…"
      ]
     },
     "metadata": {},
     "output_type": "display_data"
    },
    {
     "data": {
      "application/vnd.jupyter.widget-view+json": {
       "model_id": "",
       "version_major": 2,
       "version_minor": 0
      },
      "text/plain": [
       "Validation: |                                                                                    | 0/? [00:00<…"
      ]
     },
     "metadata": {},
     "output_type": "display_data"
    },
    {
     "data": {
      "application/vnd.jupyter.widget-view+json": {
       "model_id": "",
       "version_major": 2,
       "version_minor": 0
      },
      "text/plain": [
       "Validation: |                                                                                    | 0/? [00:00<…"
      ]
     },
     "metadata": {},
     "output_type": "display_data"
    },
    {
     "name": "stdout",
     "output_type": "stream",
     "text": [
      "Unfreezing blocks 7, 6, and 5 due to plateau in validation loss.\n",
      "Learning rate changed from 0.0005 to 5e-05\n",
      "Layers unfrozen: 3, optimizer reinitialized, learning rate decreased.\n"
     ]
    },
    {
     "data": {
      "application/vnd.jupyter.widget-view+json": {
       "model_id": "",
       "version_major": 2,
       "version_minor": 0
      },
      "text/plain": [
       "Validation: |                                                                                    | 0/? [00:00<…"
      ]
     },
     "metadata": {},
     "output_type": "display_data"
    },
    {
     "data": {
      "application/vnd.jupyter.widget-view+json": {
       "model_id": "",
       "version_major": 2,
       "version_minor": 0
      },
      "text/plain": [
       "Validation: |                                                                                    | 0/? [00:00<…"
      ]
     },
     "metadata": {},
     "output_type": "display_data"
    },
    {
     "data": {
      "application/vnd.jupyter.widget-view+json": {
       "model_id": "",
       "version_major": 2,
       "version_minor": 0
      },
      "text/plain": [
       "Validation: |                                                                                    | 0/? [00:00<…"
      ]
     },
     "metadata": {},
     "output_type": "display_data"
    },
    {
     "data": {
      "application/vnd.jupyter.widget-view+json": {
       "model_id": "",
       "version_major": 2,
       "version_minor": 0
      },
      "text/plain": [
       "Validation: |                                                                                    | 0/? [00:00<…"
      ]
     },
     "metadata": {},
     "output_type": "display_data"
    },
    {
     "data": {
      "application/vnd.jupyter.widget-view+json": {
       "model_id": "",
       "version_major": 2,
       "version_minor": 0
      },
      "text/plain": [
       "Validation: |                                                                                    | 0/? [00:00<…"
      ]
     },
     "metadata": {},
     "output_type": "display_data"
    },
    {
     "data": {
      "application/vnd.jupyter.widget-view+json": {
       "model_id": "",
       "version_major": 2,
       "version_minor": 0
      },
      "text/plain": [
       "Validation: |                                                                                    | 0/? [00:00<…"
      ]
     },
     "metadata": {},
     "output_type": "display_data"
    }
   ],
   "source": [
    "trainer.fit(model, train_loader, val_loader)"
   ]
  },
  {
   "cell_type": "code",
   "execution_count": null,
   "id": "11d05ef8-b4b5-4ec0-a250-41104bd1db32",
   "metadata": {},
   "outputs": [],
   "source": []
  },
  {
   "cell_type": "code",
   "execution_count": null,
   "id": "794d93ea-8d05-4e4a-8a4b-b4c4acc0ac4e",
   "metadata": {},
   "outputs": [],
   "source": []
  },
  {
   "cell_type": "code",
   "execution_count": null,
   "id": "cdfa425c-93bc-4b81-8d01-960ac37c80f5",
   "metadata": {},
   "outputs": [],
   "source": []
  },
  {
   "cell_type": "code",
   "execution_count": null,
   "id": "783a0c34-0d82-4186-bcbf-f6b39c4f649b",
   "metadata": {},
   "outputs": [],
   "source": []
  },
  {
   "cell_type": "code",
   "execution_count": null,
   "id": "10f4f33e-d035-4c02-b81b-450ba8c46595",
   "metadata": {},
   "outputs": [],
   "source": []
  },
  {
   "cell_type": "code",
   "execution_count": null,
   "id": "eb90bbf2-0cc7-4122-92d4-c0f362d2308f",
   "metadata": {},
   "outputs": [],
   "source": []
  }
 ],
 "metadata": {
  "kernelspec": {
   "display_name": "TC Module4",
   "language": "python",
   "name": "tc_4"
  },
  "language_info": {
   "codemirror_mode": {
    "name": "ipython",
    "version": 3
   },
   "file_extension": ".py",
   "mimetype": "text/x-python",
   "name": "python",
   "nbconvert_exporter": "python",
   "pygments_lexer": "ipython3",
   "version": "3.10.14"
  }
 },
 "nbformat": 4,
 "nbformat_minor": 5
}
