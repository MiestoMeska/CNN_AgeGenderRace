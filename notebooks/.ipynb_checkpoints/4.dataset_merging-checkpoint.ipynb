{
 "cells": [
  {
   "cell_type": "markdown",
   "id": "1709f73e-25b6-4029-96b9-13beef20d7a0",
   "metadata": {},
   "source": [
    "# Age and Gender classification\n",
    "## Label Alignment and Merging Datasets"
   ]
  },
  {
   "cell_type": "code",
   "execution_count": 1,
   "id": "818e1544-9101-4070-9b7f-a97b787c30a4",
   "metadata": {},
   "outputs": [],
   "source": [
    "import os \n",
    "import sys\n",
    "sys.path\n",
    "sys.path.append('..')\n",
    "import pandas as pd\n",
    "from utils import gender_labels_UTK, race_labels_UTK, age_group_labels_UTK, race_labels_FairFace, gender_labels_FairFace, age_group_labels_Fairface \n",
    "from utils import gather_utkface_data, gather_fairface_data\n",
    "from utils import map_fairface_to_utk,  map_age_to_group, copy_files"
   ]
  },
  {
   "cell_type": "markdown",
   "id": "f8f09b95-a156-4d66-840a-abd013c67dc8",
   "metadata": {},
   "source": [
    "### Label Alignment"
   ]
  },
  {
   "cell_type": "code",
   "execution_count": 2,
   "id": "4a171ad1-c5ab-4dfd-9210-068f55bc1a4e",
   "metadata": {},
   "outputs": [
    {
     "name": "stdout",
     "output_type": "stream",
     "text": [
      "{0: 'Male', 1: 'Female'}\n",
      "{0: 'Male', 1: 'Female'}\n"
     ]
    }
   ],
   "source": [
    "print(gender_labels_UTK)\n",
    "print(gender_labels_FairFace)"
   ]
  },
  {
   "cell_type": "code",
   "execution_count": 3,
   "id": "12c2560b-7628-4e86-8d24-8b535a44e90c",
   "metadata": {},
   "outputs": [
    {
     "name": "stdout",
     "output_type": "stream",
     "text": [
      "{0: '0-2', 1: '3-9', 2: '10-19', 3: '20-29', 4: '30-39', 5: '40-49', 6: '50-59', 7: '60-69', 8: '70+'}\n",
      "{0: '0-2', 1: '3-9', 2: '10-19', 3: '20-29', 4: '30-39', 5: '40-49', 6: '50-59', 7: '60-69', 8: '70+'}\n"
     ]
    }
   ],
   "source": [
    "print(age_group_labels_UTK)\n",
    "print(age_group_labels_Fairface)"
   ]
  },
  {
   "cell_type": "code",
   "execution_count": 4,
   "id": "7ba3d8be-1a99-4464-9747-962a4dc9b896",
   "metadata": {},
   "outputs": [
    {
     "name": "stdout",
     "output_type": "stream",
     "text": [
      "{0: 'White', 1: 'Black', 2: 'Asian', 3: 'Indian', 4: 'Others'}\n",
      "{0: 'East Asian', 1: 'Indian', 2: 'Black', 3: 'White', 4: 'Middle Eastern', 5: 'Latino_Hispanic', 6: 'Southeast Asian'}\n"
     ]
    }
   ],
   "source": [
    "print(race_labels_UTK)\n",
    "print(race_labels_FairFace)"
   ]
  },
  {
   "cell_type": "markdown",
   "id": "49875fe2-dc23-4214-b740-7ce75a2a8d30",
   "metadata": {},
   "source": [
    "Loading the data and gathering labels for each dataset."
   ]
  },
  {
   "cell_type": "code",
   "execution_count": 5,
   "id": "935c1c86-ed57-4a09-9fb6-e7d62c768fc9",
   "metadata": {},
   "outputs": [],
   "source": [
    "utk_folder = '../data/cleaned_dataset_UTKFace'\n",
    "fairface_folder = '../data/FairFace/processed_images'\n",
    "\n",
    "utk_df = gather_utkface_data(utk_folder)\n",
    "fairface_df = gather_fairface_data(fairface_folder)"
   ]
  },
  {
   "cell_type": "code",
   "execution_count": 6,
   "id": "522b619c-6940-40ff-b4c3-c596d47317f2",
   "metadata": {},
   "outputs": [],
   "source": [
    "fairface_df['race_mapped'] = fairface_df['race'].apply(map_fairface_to_utk)"
   ]
  },
  {
   "cell_type": "code",
   "execution_count": 7,
   "id": "e5c85bdb-ab5c-4e96-add1-4d48fbc65bf0",
   "metadata": {},
   "outputs": [],
   "source": [
    "utk_df['age_group'] = utk_df['age'].apply(map_age_to_group)"
   ]
  },
  {
   "cell_type": "code",
   "execution_count": 8,
   "id": "59882e68-84f9-4ee6-b797-8312b47f5e76",
   "metadata": {},
   "outputs": [],
   "source": [
    "merged_df = pd.concat([utk_df, fairface_df[['file_path', 'gender', 'race_mapped', 'age_group']]], ignore_index=True)"
   ]
  },
  {
   "cell_type": "code",
   "execution_count": 9,
   "id": "941fa9c7-cb31-43bc-ac48-79b80b6a7df9",
   "metadata": {},
   "outputs": [
    {
     "data": {
      "text/html": [
       "<div>\n",
       "<style scoped>\n",
       "    .dataframe tbody tr th:only-of-type {\n",
       "        vertical-align: middle;\n",
       "    }\n",
       "\n",
       "    .dataframe tbody tr th {\n",
       "        vertical-align: top;\n",
       "    }\n",
       "\n",
       "    .dataframe thead th {\n",
       "        text-align: right;\n",
       "    }\n",
       "</style>\n",
       "<table border=\"1\" class=\"dataframe\">\n",
       "  <thead>\n",
       "    <tr style=\"text-align: right;\">\n",
       "      <th></th>\n",
       "      <th>file_path</th>\n",
       "      <th>gender</th>\n",
       "      <th>race</th>\n",
       "      <th>age</th>\n",
       "      <th>age_group</th>\n",
       "      <th>race_mapped</th>\n",
       "    </tr>\n",
       "  </thead>\n",
       "  <tbody>\n",
       "    <tr>\n",
       "      <th>82406</th>\n",
       "      <td>../data/FairFace/processed_images\\processed_0_...</td>\n",
       "      <td>1</td>\n",
       "      <td>NaN</td>\n",
       "      <td>NaN</td>\n",
       "      <td>3</td>\n",
       "      <td>4.0</td>\n",
       "    </tr>\n",
       "    <tr>\n",
       "      <th>58573</th>\n",
       "      <td>../data/FairFace/processed_images\\processed_0_...</td>\n",
       "      <td>0</td>\n",
       "      <td>NaN</td>\n",
       "      <td>NaN</td>\n",
       "      <td>5</td>\n",
       "      <td>4.0</td>\n",
       "    </tr>\n",
       "    <tr>\n",
       "      <th>108272</th>\n",
       "      <td>../data/FairFace/processed_images\\processed_0_...</td>\n",
       "      <td>1</td>\n",
       "      <td>NaN</td>\n",
       "      <td>NaN</td>\n",
       "      <td>4</td>\n",
       "      <td>1.0</td>\n",
       "    </tr>\n",
       "    <tr>\n",
       "      <th>68650</th>\n",
       "      <td>../data/FairFace/processed_images\\processed_0_...</td>\n",
       "      <td>1</td>\n",
       "      <td>NaN</td>\n",
       "      <td>NaN</td>\n",
       "      <td>6</td>\n",
       "      <td>1.0</td>\n",
       "    </tr>\n",
       "    <tr>\n",
       "      <th>76205</th>\n",
       "      <td>../data/FairFace/processed_images\\processed_0_...</td>\n",
       "      <td>1</td>\n",
       "      <td>NaN</td>\n",
       "      <td>NaN</td>\n",
       "      <td>3</td>\n",
       "      <td>4.0</td>\n",
       "    </tr>\n",
       "    <tr>\n",
       "      <th>3909</th>\n",
       "      <td>../data/cleaned_dataset_UTKFace\\23_1_1_2017011...</td>\n",
       "      <td>1</td>\n",
       "      <td>1.0</td>\n",
       "      <td>23.0</td>\n",
       "      <td>3</td>\n",
       "      <td>NaN</td>\n",
       "    </tr>\n",
       "    <tr>\n",
       "      <th>38693</th>\n",
       "      <td>../data/FairFace/processed_images\\processed_0_...</td>\n",
       "      <td>0</td>\n",
       "      <td>NaN</td>\n",
       "      <td>NaN</td>\n",
       "      <td>0</td>\n",
       "      <td>0.0</td>\n",
       "    </tr>\n",
       "    <tr>\n",
       "      <th>85250</th>\n",
       "      <td>../data/FairFace/processed_images\\processed_0_...</td>\n",
       "      <td>1</td>\n",
       "      <td>NaN</td>\n",
       "      <td>NaN</td>\n",
       "      <td>3</td>\n",
       "      <td>3.0</td>\n",
       "    </tr>\n",
       "    <tr>\n",
       "      <th>30656</th>\n",
       "      <td>../data/FairFace/processed_images\\processed_0_...</td>\n",
       "      <td>1</td>\n",
       "      <td>NaN</td>\n",
       "      <td>NaN</td>\n",
       "      <td>2</td>\n",
       "      <td>4.0</td>\n",
       "    </tr>\n",
       "    <tr>\n",
       "      <th>97997</th>\n",
       "      <td>../data/FairFace/processed_images\\processed_0_...</td>\n",
       "      <td>1</td>\n",
       "      <td>NaN</td>\n",
       "      <td>NaN</td>\n",
       "      <td>4</td>\n",
       "      <td>1.0</td>\n",
       "    </tr>\n",
       "  </tbody>\n",
       "</table>\n",
       "</div>"
      ],
      "text/plain": [
       "                                                file_path  gender  race   age  \\\n",
       "82406   ../data/FairFace/processed_images\\processed_0_...       1   NaN   NaN   \n",
       "58573   ../data/FairFace/processed_images\\processed_0_...       0   NaN   NaN   \n",
       "108272  ../data/FairFace/processed_images\\processed_0_...       1   NaN   NaN   \n",
       "68650   ../data/FairFace/processed_images\\processed_0_...       1   NaN   NaN   \n",
       "76205   ../data/FairFace/processed_images\\processed_0_...       1   NaN   NaN   \n",
       "3909    ../data/cleaned_dataset_UTKFace\\23_1_1_2017011...       1   1.0  23.0   \n",
       "38693   ../data/FairFace/processed_images\\processed_0_...       0   NaN   NaN   \n",
       "85250   ../data/FairFace/processed_images\\processed_0_...       1   NaN   NaN   \n",
       "30656   ../data/FairFace/processed_images\\processed_0_...       1   NaN   NaN   \n",
       "97997   ../data/FairFace/processed_images\\processed_0_...       1   NaN   NaN   \n",
       "\n",
       "        age_group  race_mapped  \n",
       "82406           3          4.0  \n",
       "58573           5          4.0  \n",
       "108272          4          1.0  \n",
       "68650           6          1.0  \n",
       "76205           3          4.0  \n",
       "3909            3          NaN  \n",
       "38693           0          0.0  \n",
       "85250           3          3.0  \n",
       "30656           2          4.0  \n",
       "97997           4          1.0  "
      ]
     },
     "execution_count": 9,
     "metadata": {},
     "output_type": "execute_result"
    }
   ],
   "source": [
    "merged_df.sample(10)"
   ]
  },
  {
   "cell_type": "code",
   "execution_count": 10,
   "id": "e4cf0d37-5fde-4261-99ee-62953a082b71",
   "metadata": {},
   "outputs": [],
   "source": [
    "merged_df['race'] = merged_df['race'].combine_first(merged_df['race_mapped'])\n",
    "merged_aligned_df = merged_df[['file_path', 'gender', 'race', 'age_group']]"
   ]
  },
  {
   "cell_type": "markdown",
   "id": "8fdc90bf-10d0-46fc-b0ea-1094fca15abc",
   "metadata": {},
   "source": [
    "Cheking for missing values."
   ]
  },
  {
   "cell_type": "code",
   "execution_count": 14,
   "id": "5ace7a2f-0ab2-4ba8-ad2a-ba0c64d730a9",
   "metadata": {},
   "outputs": [
    {
     "name": "stdout",
     "output_type": "stream",
     "text": [
      "file_path    0\n",
      "gender       0\n",
      "race         0\n",
      "age_group    0\n",
      "dtype: int64\n"
     ]
    }
   ],
   "source": [
    "na_counts = merged_aligned_df.isna().sum()\n",
    "print(na_counts)"
   ]
  },
  {
   "cell_type": "code",
   "execution_count": 20,
   "id": "78a0767e-85a7-43ff-8341-81f336e24ae7",
   "metadata": {},
   "outputs": [
    {
     "name": "stdout",
     "output_type": "stream",
     "text": [
      "file_path    object\n",
      "gender        int32\n",
      "race          int32\n",
      "age_group     int32\n",
      "dtype: object\n"
     ]
    }
   ],
   "source": [
    "merged_aligned_df = merged_aligned_df.copy()\n",
    "\n",
    "merged_aligned_df['gender'] = merged_aligned_df['gender'].astype(int)\n",
    "merged_aligned_df['race'] = merged_aligned_df['race'].astype(int)\n",
    "merged_aligned_df['age_group'] = merged_aligned_df['age_group'].astype(int)\n",
    "\n",
    "print(merged_aligned_df.dtypes)"
   ]
  },
  {
   "cell_type": "code",
   "execution_count": 21,
   "id": "61e73b69-3d4f-49cc-84c0-f4fa85cb8d75",
   "metadata": {},
   "outputs": [
    {
     "name": "stdout",
     "output_type": "stream",
     "text": [
      "                                           file_path  gender  race  age_group\n",
      "0  ../data/cleaned_dataset_UTKFace\\100_0_0_201701...       0     0          8\n",
      "1  ../data/cleaned_dataset_UTKFace\\100_0_0_201701...       0     0          8\n",
      "2  ../data/cleaned_dataset_UTKFace\\100_1_0_201701...       1     0          8\n",
      "3  ../data/cleaned_dataset_UTKFace\\100_1_0_201701...       1     0          8\n",
      "4  ../data/cleaned_dataset_UTKFace\\100_1_0_201701...       1     0          8\n"
     ]
    }
   ],
   "source": [
    "print(merged_aligned_df.head())"
   ]
  },
  {
   "cell_type": "markdown",
   "id": "876cef07-ce4c-4030-855f-8dbd722879f8",
   "metadata": {},
   "source": [
    "### Making Copy of Final Merged Dataset"
   ]
  },
  {
   "cell_type": "code",
   "execution_count": 22,
   "id": "12f34775-21d5-4ac2-b6ef-b8ac0dd18fb5",
   "metadata": {},
   "outputs": [],
   "source": [
    "destination_dir = '../data/merged/'\n",
    "os.makedirs(destination_dir, exist_ok=True)\n",
    "\n",
    "copy_files(merged_aligned_df, destination_dir)"
   ]
  }
 ],
 "metadata": {
  "kernelspec": {
   "display_name": "TC Module4",
   "language": "python",
   "name": "tc_4"
  },
  "language_info": {
   "codemirror_mode": {
    "name": "ipython",
    "version": 3
   },
   "file_extension": ".py",
   "mimetype": "text/x-python",
   "name": "python",
   "nbconvert_exporter": "python",
   "pygments_lexer": "ipython3",
   "version": "3.10.14"
  }
 },
 "nbformat": 4,
 "nbformat_minor": 5
}
